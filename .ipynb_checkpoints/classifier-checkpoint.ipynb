{
 "cells": [
  {
   "cell_type": "code",
   "execution_count": 1,
   "metadata": {
    "colab": {
     "base_uri": "https://localhost:8080/",
     "height": 36
    },
    "id": "1HZhB6p1CCKD",
    "outputId": "5b14441f-c9de-4f83-f3ef-fa92f235a692"
   },
   "outputs": [
    {
     "data": {
      "application/vnd.google.colaboratory.intrinsic+json": {
       "type": "string"
      },
      "text/plain": [
       "'2.5.3'"
      ]
     },
     "execution_count": 1,
     "metadata": {},
     "output_type": "execute_result"
    }
   ],
   "source": [
    "# !pip install fastai --upgrade -q\n",
    "from ipywidgets import *\n",
    "import fastai\n",
    "fastai.__version__"
   ]
  },
  {
   "cell_type": "code",
   "execution_count": 2,
   "metadata": {
    "id": "N9zYklpxl2Ji"
   },
   "outputs": [],
   "source": [
    "import fastai.callback.all"
   ]
  },
  {
   "cell_type": "code",
   "execution_count": 3,
   "metadata": {
    "id": "syOcgA7Ll7OI"
   },
   "outputs": [],
   "source": [
    "# !pip install -Uqq fastbook\n",
    "import fastbook \n",
    "from fastbook import *"
   ]
  },
  {
   "cell_type": "code",
   "execution_count": 4,
   "metadata": {
    "id": "5b2Hgfctp8cu"
   },
   "outputs": [],
   "source": [
    "from fastai.vision.widgets import *\n"
   ]
  },
  {
   "cell_type": "code",
   "execution_count": 5,
   "metadata": {
    "colab": {
     "base_uri": "https://localhost:8080/"
    },
    "id": "5dJo1UujGERA",
    "outputId": "9ab7216c-a50a-4ba4-a808-c507e40d590f"
   },
   "outputs": [
    {
     "name": "stdout",
     "output_type": "stream",
     "text": [
      "Requirement already satisfied: voila in /usr/local/lib/python3.7/dist-packages (0.3.1)\n",
      "Requirement already satisfied: traitlets<6,>=5.0.3 in /usr/local/lib/python3.7/dist-packages (from voila) (5.1.1)\n",
      "Requirement already satisfied: nbclient<0.6,>=0.4.0 in /usr/local/lib/python3.7/dist-packages (from voila) (0.5.10)\n",
      "Requirement already satisfied: jupyter-server<2.0.0,>=0.3.0 in /usr/local/lib/python3.7/dist-packages (from voila) (1.13.5)\n",
      "Requirement already satisfied: websockets>=9.0 in /usr/local/lib/python3.7/dist-packages (from voila) (10.1)\n",
      "Requirement already satisfied: nbconvert<7,>=6.0.0 in /usr/local/lib/python3.7/dist-packages (from voila) (6.4.2)\n",
      "Requirement already satisfied: jupyter-client<8,>=6.1.3 in /usr/local/lib/python3.7/dist-packages (from voila) (7.1.2)\n",
      "Requirement already satisfied: python-dateutil>=2.1 in /usr/local/lib/python3.7/dist-packages (from jupyter-client<8,>=6.1.3->voila) (2.8.2)\n",
      "Requirement already satisfied: tornado>=4.1 in /usr/local/lib/python3.7/dist-packages (from jupyter-client<8,>=6.1.3->voila) (6.1)\n",
      "Requirement already satisfied: nest-asyncio>=1.5 in /usr/local/lib/python3.7/dist-packages (from jupyter-client<8,>=6.1.3->voila) (1.5.4)\n",
      "Requirement already satisfied: jupyter-core>=4.6.0 in /usr/local/lib/python3.7/dist-packages (from jupyter-client<8,>=6.1.3->voila) (4.9.1)\n",
      "Requirement already satisfied: entrypoints in /usr/local/lib/python3.7/dist-packages (from jupyter-client<8,>=6.1.3->voila) (0.4)\n",
      "Requirement already satisfied: pyzmq>=13 in /usr/local/lib/python3.7/dist-packages (from jupyter-client<8,>=6.1.3->voila) (22.3.0)\n",
      "Requirement already satisfied: nbformat in /usr/local/lib/python3.7/dist-packages (from jupyter-server<2.0.0,>=0.3.0->voila) (5.1.3)\n",
      "Requirement already satisfied: Send2Trash in /usr/local/lib/python3.7/dist-packages (from jupyter-server<2.0.0,>=0.3.0->voila) (1.8.0)\n",
      "Requirement already satisfied: websocket-client in /usr/local/lib/python3.7/dist-packages (from jupyter-server<2.0.0,>=0.3.0->voila) (1.2.3)\n",
      "Requirement already satisfied: terminado>=0.8.3 in /usr/local/lib/python3.7/dist-packages (from jupyter-server<2.0.0,>=0.3.0->voila) (0.13.1)\n",
      "Requirement already satisfied: jinja2 in /usr/local/lib/python3.7/dist-packages (from jupyter-server<2.0.0,>=0.3.0->voila) (2.11.3)\n",
      "Requirement already satisfied: packaging in /usr/local/lib/python3.7/dist-packages (from jupyter-server<2.0.0,>=0.3.0->voila) (21.3)\n",
      "Requirement already satisfied: ipython-genutils in /usr/local/lib/python3.7/dist-packages (from jupyter-server<2.0.0,>=0.3.0->voila) (0.2.0)\n",
      "Requirement already satisfied: prometheus-client in /usr/local/lib/python3.7/dist-packages (from jupyter-server<2.0.0,>=0.3.0->voila) (0.13.1)\n",
      "Requirement already satisfied: anyio<4,>=3.1.0 in /usr/local/lib/python3.7/dist-packages (from jupyter-server<2.0.0,>=0.3.0->voila) (3.5.0)\n",
      "Requirement already satisfied: argon2-cffi in /usr/local/lib/python3.7/dist-packages (from jupyter-server<2.0.0,>=0.3.0->voila) (21.3.0)\n",
      "Requirement already satisfied: idna>=2.8 in /usr/local/lib/python3.7/dist-packages (from anyio<4,>=3.1.0->jupyter-server<2.0.0,>=0.3.0->voila) (2.10)\n",
      "Requirement already satisfied: sniffio>=1.1 in /usr/local/lib/python3.7/dist-packages (from anyio<4,>=3.1.0->jupyter-server<2.0.0,>=0.3.0->voila) (1.2.0)\n",
      "Requirement already satisfied: typing-extensions in /usr/local/lib/python3.7/dist-packages (from anyio<4,>=3.1.0->jupyter-server<2.0.0,>=0.3.0->voila) (3.10.0.2)\n",
      "Requirement already satisfied: mistune<2,>=0.8.1 in /usr/local/lib/python3.7/dist-packages (from nbconvert<7,>=6.0.0->voila) (0.8.4)\n",
      "Requirement already satisfied: defusedxml in /usr/local/lib/python3.7/dist-packages (from nbconvert<7,>=6.0.0->voila) (0.7.1)\n",
      "Requirement already satisfied: pandocfilters>=1.4.1 in /usr/local/lib/python3.7/dist-packages (from nbconvert<7,>=6.0.0->voila) (1.5.0)\n",
      "Requirement already satisfied: testpath in /usr/local/lib/python3.7/dist-packages (from nbconvert<7,>=6.0.0->voila) (0.5.0)\n",
      "Requirement already satisfied: pygments>=2.4.1 in /usr/local/lib/python3.7/dist-packages (from nbconvert<7,>=6.0.0->voila) (2.6.1)\n",
      "Requirement already satisfied: jupyterlab-pygments in /usr/local/lib/python3.7/dist-packages (from nbconvert<7,>=6.0.0->voila) (0.1.2)\n",
      "Requirement already satisfied: bleach in /usr/local/lib/python3.7/dist-packages (from nbconvert<7,>=6.0.0->voila) (4.1.0)\n",
      "Requirement already satisfied: MarkupSafe>=0.23 in /usr/local/lib/python3.7/dist-packages (from jinja2->jupyter-server<2.0.0,>=0.3.0->voila) (2.0.1)\n",
      "Requirement already satisfied: jsonschema!=2.5.0,>=2.4 in /usr/local/lib/python3.7/dist-packages (from nbformat->jupyter-server<2.0.0,>=0.3.0->voila) (4.3.3)\n",
      "Requirement already satisfied: attrs>=17.4.0 in /usr/local/lib/python3.7/dist-packages (from jsonschema!=2.5.0,>=2.4->nbformat->jupyter-server<2.0.0,>=0.3.0->voila) (21.4.0)\n",
      "Requirement already satisfied: importlib-metadata in /usr/local/lib/python3.7/dist-packages (from jsonschema!=2.5.0,>=2.4->nbformat->jupyter-server<2.0.0,>=0.3.0->voila) (4.11.0)\n",
      "Requirement already satisfied: pyrsistent!=0.17.0,!=0.17.1,!=0.17.2,>=0.14.0 in /usr/local/lib/python3.7/dist-packages (from jsonschema!=2.5.0,>=2.4->nbformat->jupyter-server<2.0.0,>=0.3.0->voila) (0.18.1)\n",
      "Requirement already satisfied: importlib-resources>=1.4.0 in /usr/local/lib/python3.7/dist-packages (from jsonschema!=2.5.0,>=2.4->nbformat->jupyter-server<2.0.0,>=0.3.0->voila) (5.4.0)\n",
      "Requirement already satisfied: zipp>=3.1.0 in /usr/local/lib/python3.7/dist-packages (from importlib-resources>=1.4.0->jsonschema!=2.5.0,>=2.4->nbformat->jupyter-server<2.0.0,>=0.3.0->voila) (3.7.0)\n",
      "Requirement already satisfied: six>=1.5 in /usr/local/lib/python3.7/dist-packages (from python-dateutil>=2.1->jupyter-client<8,>=6.1.3->voila) (1.15.0)\n",
      "Requirement already satisfied: ptyprocess in /usr/local/lib/python3.7/dist-packages (from terminado>=0.8.3->jupyter-server<2.0.0,>=0.3.0->voila) (0.7.0)\n",
      "Requirement already satisfied: argon2-cffi-bindings in /usr/local/lib/python3.7/dist-packages (from argon2-cffi->jupyter-server<2.0.0,>=0.3.0->voila) (21.2.0)\n",
      "Requirement already satisfied: cffi>=1.0.1 in /usr/local/lib/python3.7/dist-packages (from argon2-cffi-bindings->argon2-cffi->jupyter-server<2.0.0,>=0.3.0->voila) (1.15.0)\n",
      "Requirement already satisfied: pycparser in /usr/local/lib/python3.7/dist-packages (from cffi>=1.0.1->argon2-cffi-bindings->argon2-cffi->jupyter-server<2.0.0,>=0.3.0->voila) (2.21)\n",
      "Requirement already satisfied: webencodings in /usr/local/lib/python3.7/dist-packages (from bleach->nbconvert<7,>=6.0.0->voila) (0.5.1)\n",
      "Requirement already satisfied: pyparsing!=3.0.5,>=2.0.2 in /usr/local/lib/python3.7/dist-packages (from packaging->jupyter-server<2.0.0,>=0.3.0->voila) (3.0.7)\n",
      "Enabling: voila\n",
      "- Writing config: /usr/etc/jupyter\n",
      "    - Validating...\n",
      "Error loading server extension voila\n",
      "     \u001b[31m X\u001b[0m is voila importable?\n"
     ]
    }
   ],
   "source": [
    "# !pip install voila"
   ]
  },
  {
   "cell_type": "code",
   "execution_count": 8,
   "metadata": {
    "colab": {
     "base_uri": "https://localhost:8080/"
    },
    "id": "X_B5TW8jIM2u",
    "outputId": "9b4b35ba-1f14-4f92-d3bc-42c2cf5804b2"
   },
   "outputs": [
    {
     "name": "stdout",
     "output_type": "stream",
     "text": [
      "Enabling: voila\n",
      "- Writing config: /usr/etc/jupyter\n",
      "    - Validating...\n",
      "Error loading server extension voila\n",
      "     \u001b[31m X\u001b[0m is voila importable?\n"
     ]
    }
   ],
   "source": [
    "# !jupyter serverextension enable --sys-prefix voila"
   ]
  },
  {
   "cell_type": "code",
   "execution_count": 9,
   "metadata": {
    "colab": {
     "base_uri": "https://localhost:8080/",
     "height": 49,
     "referenced_widgets": [
      "972b74a404364fce8be005f90a40dc1f",
      "d7236a2dff1e4da58f5fcd958999851a",
      "fd615ff4e10a4784ba584f59c65c345b"
     ]
    },
    "id": "R-DD2-P5Bz_l",
    "outputId": "2a74bf98-84ad-421d-f915-54f559448f39"
   },
   "outputs": [
    {
     "data": {
      "application/vnd.jupyter.widget-view+json": {
       "model_id": "972b74a404364fce8be005f90a40dc1f",
       "version_major": 2,
       "version_minor": 0
      },
      "text/plain": [
       "FileUpload(value={}, description='Upload')"
      ]
     },
     "metadata": {},
     "output_type": "display_data"
    }
   ],
   "source": [
    "btn_upload = widgets.FileUpload()\n",
    "# btn_upload\n"
   ]
  },
  {
   "cell_type": "code",
   "execution_count": 10,
   "metadata": {
    "id": "H2jAckeDRkgk"
   },
   "outputs": [],
   "source": [
    "img = PILImage.create(btn_upload.data[-1])"
   ]
  },
  {
   "cell_type": "code",
   "execution_count": 11,
   "metadata": {
    "colab": {
     "base_uri": "https://localhost:8080/",
     "height": 102,
     "referenced_widgets": [
      "10bb3139116743cf9c1cd4bb18ece541",
      "871464eb9ab34af58e87e46804f11446"
     ]
    },
    "id": "DCM9oUSIsbb_",
    "outputId": "9d0a6d2f-d702-44d0-9306-c822d1ae201b"
   },
   "outputs": [
    {
     "data": {
      "application/vnd.jupyter.widget-view+json": {
       "model_id": "10bb3139116743cf9c1cd4bb18ece541",
       "version_major": 2,
       "version_minor": 0
      },
      "text/plain": [
       "Output()"
      ]
     },
     "metadata": {},
     "output_type": "display_data"
    }
   ],
   "source": [
    "out_pl = widgets.Output()\n",
    "out_pl.clear_output()\n",
    "with out_pl: display(img.to_thumb(128,128))\n",
    "# out_pl"
   ]
  },
  {
   "cell_type": "code",
   "execution_count": 13,
   "metadata": {
    "id": "Q3W21Jgstjoz"
   },
   "outputs": [],
   "source": [
    "path = Path()\n",
    "learn_inf = load_learner(path/'export.pkl')"
   ]
  },
  {
   "cell_type": "code",
   "execution_count": 14,
   "metadata": {
    "colab": {
     "base_uri": "https://localhost:8080/",
     "height": 17
    },
    "id": "-aPIlqDqtaxF",
    "outputId": "767529f7-6309-4d52-8ec3-fb8feb90ead1"
   },
   "outputs": [
    {
     "data": {
      "text/html": [],
      "text/plain": [
       "<IPython.core.display.HTML object>"
      ]
     },
     "metadata": {},
     "output_type": "display_data"
    }
   ],
   "source": [
    "pred,pred_idx,probs = learn_inf.predict(img)"
   ]
  },
  {
   "cell_type": "code",
   "execution_count": 15,
   "metadata": {
    "colab": {
     "base_uri": "https://localhost:8080/",
     "height": 49,
     "referenced_widgets": [
      "95dd3085c67e458a97202d0098c1c0f6",
      "676b47b5d5824c1e81da435e0a476e15",
      "3e3b185a2bc740f4bf7a30762473763d"
     ]
    },
    "id": "WZnA1iltD0ce",
    "outputId": "0740861d-e844-4f04-c1ff-1e85fd12f935"
   },
   "outputs": [
    {
     "data": {
      "application/vnd.jupyter.widget-view+json": {
       "model_id": "95dd3085c67e458a97202d0098c1c0f6",
       "version_major": 2,
       "version_minor": 0
      },
      "text/plain": [
       "Label(value='Prediction: grizzly; Probability: 0.9998')"
      ]
     },
     "metadata": {},
     "output_type": "display_data"
    }
   ],
   "source": [
    "lbl_pred = widgets.Label()\n",
    "lbl_pred.value = f'Prediction: {pred}; Probability: {probs[pred_idx]:.04f}'\n",
    "# lbl_pred"
   ]
  },
  {
   "cell_type": "code",
   "execution_count": 18,
   "metadata": {
    "colab": {
     "base_uri": "https://localhost:8080/",
     "height": 49,
     "referenced_widgets": [
      "a04b08b6321d40579c5466dcf5478f01",
      "364092e9baa3454cac86cb60c362ff5c",
      "eac9452675364640a063d258ff8c8611"
     ]
    },
    "id": "OiH3xse7EKod",
    "outputId": "5179df73-eb30-4ac4-a527-741b5925de54"
   },
   "outputs": [
    {
     "data": {
      "application/vnd.jupyter.widget-view+json": {
       "model_id": "a04b08b6321d40579c5466dcf5478f01",
       "version_major": 2,
       "version_minor": 0
      },
      "text/plain": [
       "Button(description='Classify', style=ButtonStyle())"
      ]
     },
     "metadata": {},
     "output_type": "display_data"
    },
    {
     "data": {
      "text/html": [],
      "text/plain": [
       "<IPython.core.display.HTML object>"
      ]
     },
     "metadata": {},
     "output_type": "display_data"
    },
    {
     "data": {
      "text/html": [],
      "text/plain": [
       "<IPython.core.display.HTML object>"
      ]
     },
     "metadata": {},
     "output_type": "display_data"
    },
    {
     "data": {
      "text/html": [],
      "text/plain": [
       "<IPython.core.display.HTML object>"
      ]
     },
     "metadata": {},
     "output_type": "display_data"
    }
   ],
   "source": [
    "btn_run = widgets.Button(description='Classify')\n",
    "# btn_run"
   ]
  },
  {
   "cell_type": "code",
   "execution_count": 19,
   "metadata": {
    "id": "DPuDYrwCEYnR"
   },
   "outputs": [],
   "source": [
    "def on_click_classify(change):\n",
    "  img = PILImage.create(btn_upload.data[-1])\n",
    "  out_pl.clear_output()\n",
    "  with out_pl: display(img.to_thumb(128,128))\n",
    "  pred, pred_idx, probs = learn_inf.predict(img)\n",
    "  lbl_pred.value = f\"Prediction: {pred}; Probability: {probs[pred_idx]:.04f}\"\n",
    "\n",
    "btn_run.on_click(on_click_classify)"
   ]
  },
  {
   "cell_type": "code",
   "execution_count": 20,
   "metadata": {
    "colab": {
     "base_uri": "https://localhost:8080/",
     "height": 230,
     "referenced_widgets": [
      "2e58fee443be4831bbdf95256489da3b",
      "2de3fbd2f25a499c8a664abd2e5507f9",
      "81a810a4120b4a6492ae9226974fc7bb",
      "972b74a404364fce8be005f90a40dc1f",
      "a04b08b6321d40579c5466dcf5478f01",
      "10bb3139116743cf9c1cd4bb18ece541",
      "95dd3085c67e458a97202d0098c1c0f6",
      "48aa8b60af194dbfafe09737469cac6a",
      "19ca2a2b0e444ae0b8033289807af62e",
      "d7236a2dff1e4da58f5fcd958999851a",
      "fd615ff4e10a4784ba584f59c65c345b",
      "364092e9baa3454cac86cb60c362ff5c",
      "eac9452675364640a063d258ff8c8611",
      "676b47b5d5824c1e81da435e0a476e15",
      "3e3b185a2bc740f4bf7a30762473763d",
      "871464eb9ab34af58e87e46804f11446"
     ]
    },
    "id": "zdRupUjSFlyq",
    "outputId": "310974f5-0f1b-4d32-c30b-84e1cfaa681b"
   },
   "outputs": [
    {
     "data": {
      "application/vnd.jupyter.widget-view+json": {
       "model_id": "2e58fee443be4831bbdf95256489da3b",
       "version_major": 2,
       "version_minor": 0
      },
      "text/plain": [
       "VBox(children=(Label(value='Select your bear!'), FileUpload(value={'Screen Shot 2022-02-15 at 4.26.08 PM.png':…"
      ]
     },
     "metadata": {},
     "output_type": "display_data"
    },
    {
     "data": {
      "text/html": [],
      "text/plain": [
       "<IPython.core.display.HTML object>"
      ]
     },
     "metadata": {},
     "output_type": "display_data"
    }
   ],
   "source": [
    "VBox([widgets.Label('Select your bear!'),\n",
    "      btn_upload, btn_run, out_pl, lbl_pred])"
   ]
  }
 ],
 "metadata": {
  "colab": {
   "collapsed_sections": [],
   "name": "bear_finder.ipynb",
   "provenance": []
  },
  "kernelspec": {
   "display_name": "Python 3 (ipykernel)",
   "language": "python",
   "name": "python3"
  },
  "language_info": {
   "codemirror_mode": {
    "name": "ipython",
    "version": 3
   },
   "file_extension": ".py",
   "mimetype": "text/x-python",
   "name": "python",
   "nbconvert_exporter": "python",
   "pygments_lexer": "ipython3",
   "version": "3.9.7"
  },
  "widgets": {
   "application/vnd.jupyter.widget-state+json": {
    "10bb3139116743cf9c1cd4bb18ece541": {
     "model_module": "@jupyter-widgets/output",
     "model_module_version": "1.0.0",
     "model_name": "OutputModel",
     "state": {
      "_dom_classes": [],
      "_model_module": "@jupyter-widgets/output",
      "_model_module_version": "1.0.0",
      "_model_name": "OutputModel",
      "_view_count": null,
      "_view_module": "@jupyter-widgets/output",
      "_view_module_version": "1.0.0",
      "_view_name": "OutputView",
      "layout": "IPY_MODEL_871464eb9ab34af58e87e46804f11446",
      "msg_id": "",
      "outputs": [
       {
        "data": {
         "image/png": "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\n",
         "text/plain": "<PIL.Image.Image image mode=RGB size=128x85 at 0x7F38C09C1590>"
        },
        "metadata": {},
        "output_type": "display_data"
       }
      ]
     }
    },
    "19ca2a2b0e444ae0b8033289807af62e": {
     "model_module": "@jupyter-widgets/base",
     "model_module_version": "1.2.0",
     "model_name": "LayoutModel",
     "state": {
      "_model_module": "@jupyter-widgets/base",
      "_model_module_version": "1.2.0",
      "_model_name": "LayoutModel",
      "_view_count": null,
      "_view_module": "@jupyter-widgets/base",
      "_view_module_version": "1.2.0",
      "_view_name": "LayoutView",
      "align_content": null,
      "align_items": null,
      "align_self": null,
      "border": null,
      "bottom": null,
      "display": null,
      "flex": null,
      "flex_flow": null,
      "grid_area": null,
      "grid_auto_columns": null,
      "grid_auto_flow": null,
      "grid_auto_rows": null,
      "grid_column": null,
      "grid_gap": null,
      "grid_row": null,
      "grid_template_areas": null,
      "grid_template_columns": null,
      "grid_template_rows": null,
      "height": null,
      "justify_content": null,
      "justify_items": null,
      "left": null,
      "margin": null,
      "max_height": null,
      "max_width": null,
      "min_height": null,
      "min_width": null,
      "object_fit": null,
      "object_position": null,
      "order": null,
      "overflow": null,
      "overflow_x": null,
      "overflow_y": null,
      "padding": null,
      "right": null,
      "top": null,
      "visibility": null,
      "width": null
     }
    },
    "2de3fbd2f25a499c8a664abd2e5507f9": {
     "model_module": "@jupyter-widgets/base",
     "model_module_version": "1.2.0",
     "model_name": "LayoutModel",
     "state": {
      "_model_module": "@jupyter-widgets/base",
      "_model_module_version": "1.2.0",
      "_model_name": "LayoutModel",
      "_view_count": null,
      "_view_module": "@jupyter-widgets/base",
      "_view_module_version": "1.2.0",
      "_view_name": "LayoutView",
      "align_content": null,
      "align_items": null,
      "align_self": null,
      "border": null,
      "bottom": null,
      "display": null,
      "flex": null,
      "flex_flow": null,
      "grid_area": null,
      "grid_auto_columns": null,
      "grid_auto_flow": null,
      "grid_auto_rows": null,
      "grid_column": null,
      "grid_gap": null,
      "grid_row": null,
      "grid_template_areas": null,
      "grid_template_columns": null,
      "grid_template_rows": null,
      "height": null,
      "justify_content": null,
      "justify_items": null,
      "left": null,
      "margin": null,
      "max_height": null,
      "max_width": null,
      "min_height": null,
      "min_width": null,
      "object_fit": null,
      "object_position": null,
      "order": null,
      "overflow": null,
      "overflow_x": null,
      "overflow_y": null,
      "padding": null,
      "right": null,
      "top": null,
      "visibility": null,
      "width": null
     }
    },
    "2e58fee443be4831bbdf95256489da3b": {
     "model_module": "@jupyter-widgets/controls",
     "model_module_version": "1.5.0",
     "model_name": "VBoxModel",
     "state": {
      "_dom_classes": [],
      "_model_module": "@jupyter-widgets/controls",
      "_model_module_version": "1.5.0",
      "_model_name": "VBoxModel",
      "_view_count": null,
      "_view_module": "@jupyter-widgets/controls",
      "_view_module_version": "1.5.0",
      "_view_name": "VBoxView",
      "box_style": "",
      "children": [
       "IPY_MODEL_81a810a4120b4a6492ae9226974fc7bb",
       "IPY_MODEL_972b74a404364fce8be005f90a40dc1f",
       "IPY_MODEL_a04b08b6321d40579c5466dcf5478f01",
       "IPY_MODEL_10bb3139116743cf9c1cd4bb18ece541",
       "IPY_MODEL_95dd3085c67e458a97202d0098c1c0f6"
      ],
      "layout": "IPY_MODEL_2de3fbd2f25a499c8a664abd2e5507f9"
     }
    },
    "364092e9baa3454cac86cb60c362ff5c": {
     "model_module": "@jupyter-widgets/controls",
     "model_module_version": "1.5.0",
     "model_name": "ButtonStyleModel",
     "state": {
      "_model_module": "@jupyter-widgets/controls",
      "_model_module_version": "1.5.0",
      "_model_name": "ButtonStyleModel",
      "_view_count": null,
      "_view_module": "@jupyter-widgets/base",
      "_view_module_version": "1.2.0",
      "_view_name": "StyleView",
      "button_color": null,
      "font_weight": ""
     }
    },
    "3e3b185a2bc740f4bf7a30762473763d": {
     "model_module": "@jupyter-widgets/base",
     "model_module_version": "1.2.0",
     "model_name": "LayoutModel",
     "state": {
      "_model_module": "@jupyter-widgets/base",
      "_model_module_version": "1.2.0",
      "_model_name": "LayoutModel",
      "_view_count": null,
      "_view_module": "@jupyter-widgets/base",
      "_view_module_version": "1.2.0",
      "_view_name": "LayoutView",
      "align_content": null,
      "align_items": null,
      "align_self": null,
      "border": null,
      "bottom": null,
      "display": null,
      "flex": null,
      "flex_flow": null,
      "grid_area": null,
      "grid_auto_columns": null,
      "grid_auto_flow": null,
      "grid_auto_rows": null,
      "grid_column": null,
      "grid_gap": null,
      "grid_row": null,
      "grid_template_areas": null,
      "grid_template_columns": null,
      "grid_template_rows": null,
      "height": null,
      "justify_content": null,
      "justify_items": null,
      "left": null,
      "margin": null,
      "max_height": null,
      "max_width": null,
      "min_height": null,
      "min_width": null,
      "object_fit": null,
      "object_position": null,
      "order": null,
      "overflow": null,
      "overflow_x": null,
      "overflow_y": null,
      "padding": null,
      "right": null,
      "top": null,
      "visibility": null,
      "width": null
     }
    },
    "48aa8b60af194dbfafe09737469cac6a": {
     "model_module": "@jupyter-widgets/controls",
     "model_module_version": "1.5.0",
     "model_name": "DescriptionStyleModel",
     "state": {
      "_model_module": "@jupyter-widgets/controls",
      "_model_module_version": "1.5.0",
      "_model_name": "DescriptionStyleModel",
      "_view_count": null,
      "_view_module": "@jupyter-widgets/base",
      "_view_module_version": "1.2.0",
      "_view_name": "StyleView",
      "description_width": ""
     }
    },
    "676b47b5d5824c1e81da435e0a476e15": {
     "model_module": "@jupyter-widgets/controls",
     "model_module_version": "1.5.0",
     "model_name": "DescriptionStyleModel",
     "state": {
      "_model_module": "@jupyter-widgets/controls",
      "_model_module_version": "1.5.0",
      "_model_name": "DescriptionStyleModel",
      "_view_count": null,
      "_view_module": "@jupyter-widgets/base",
      "_view_module_version": "1.2.0",
      "_view_name": "StyleView",
      "description_width": ""
     }
    },
    "81a810a4120b4a6492ae9226974fc7bb": {
     "model_module": "@jupyter-widgets/controls",
     "model_module_version": "1.5.0",
     "model_name": "LabelModel",
     "state": {
      "_dom_classes": [],
      "_model_module": "@jupyter-widgets/controls",
      "_model_module_version": "1.5.0",
      "_model_name": "LabelModel",
      "_view_count": null,
      "_view_module": "@jupyter-widgets/controls",
      "_view_module_version": "1.5.0",
      "_view_name": "LabelView",
      "description": "",
      "description_tooltip": null,
      "layout": "IPY_MODEL_19ca2a2b0e444ae0b8033289807af62e",
      "placeholder": "​",
      "style": "IPY_MODEL_48aa8b60af194dbfafe09737469cac6a",
      "value": "Select your bear!"
     }
    },
    "871464eb9ab34af58e87e46804f11446": {
     "model_module": "@jupyter-widgets/base",
     "model_module_version": "1.2.0",
     "model_name": "LayoutModel",
     "state": {
      "_model_module": "@jupyter-widgets/base",
      "_model_module_version": "1.2.0",
      "_model_name": "LayoutModel",
      "_view_count": null,
      "_view_module": "@jupyter-widgets/base",
      "_view_module_version": "1.2.0",
      "_view_name": "LayoutView",
      "align_content": null,
      "align_items": null,
      "align_self": null,
      "border": null,
      "bottom": null,
      "display": null,
      "flex": null,
      "flex_flow": null,
      "grid_area": null,
      "grid_auto_columns": null,
      "grid_auto_flow": null,
      "grid_auto_rows": null,
      "grid_column": null,
      "grid_gap": null,
      "grid_row": null,
      "grid_template_areas": null,
      "grid_template_columns": null,
      "grid_template_rows": null,
      "height": null,
      "justify_content": null,
      "justify_items": null,
      "left": null,
      "margin": null,
      "max_height": null,
      "max_width": null,
      "min_height": null,
      "min_width": null,
      "object_fit": null,
      "object_position": null,
      "order": null,
      "overflow": null,
      "overflow_x": null,
      "overflow_y": null,
      "padding": null,
      "right": null,
      "top": null,
      "visibility": null,
      "width": null
     }
    },
    "95dd3085c67e458a97202d0098c1c0f6": {
     "model_module": "@jupyter-widgets/controls",
     "model_module_version": "1.5.0",
     "model_name": "LabelModel",
     "state": {
      "_dom_classes": [],
      "_model_module": "@jupyter-widgets/controls",
      "_model_module_version": "1.5.0",
      "_model_name": "LabelModel",
      "_view_count": null,
      "_view_module": "@jupyter-widgets/controls",
      "_view_module_version": "1.5.0",
      "_view_name": "LabelView",
      "description": "",
      "description_tooltip": null,
      "layout": "IPY_MODEL_3e3b185a2bc740f4bf7a30762473763d",
      "placeholder": "​",
      "style": "IPY_MODEL_676b47b5d5824c1e81da435e0a476e15",
      "value": "Prediction: grizzly; Probability: 0.5281"
     }
    },
    "972b74a404364fce8be005f90a40dc1f": {
     "model_module": "@jupyter-widgets/controls",
     "model_module_version": "1.5.0",
     "model_name": "FileUploadModel",
     "state": {
      "_counter": 2,
      "_dom_classes": [],
      "_model_module": "@jupyter-widgets/controls",
      "_model_module_version": "1.5.0",
      "_model_name": "FileUploadModel",
      "_view_count": null,
      "_view_module": "@jupyter-widgets/controls",
      "_view_module_version": "1.5.0",
      "_view_name": "FileUploadView",
      "accept": "",
      "button_style": "",
      "data": [
       null
      ],
      "description": "Upload",
      "description_tooltip": null,
      "disabled": false,
      "error": "",
      "icon": "upload",
      "layout": "IPY_MODEL_fd615ff4e10a4784ba584f59c65c345b",
      "metadata": [
       {
        "lastModified": 1644547855492,
        "name": "Screen Shot 2022-02-10 at 7.50.49 PM.png",
        "size": 182294,
        "type": "image/png"
       }
      ],
      "multiple": false,
      "style": "IPY_MODEL_d7236a2dff1e4da58f5fcd958999851a"
     }
    },
    "a04b08b6321d40579c5466dcf5478f01": {
     "model_module": "@jupyter-widgets/controls",
     "model_module_version": "1.5.0",
     "model_name": "ButtonModel",
     "state": {
      "_dom_classes": [],
      "_model_module": "@jupyter-widgets/controls",
      "_model_module_version": "1.5.0",
      "_model_name": "ButtonModel",
      "_view_count": null,
      "_view_module": "@jupyter-widgets/controls",
      "_view_module_version": "1.5.0",
      "_view_name": "ButtonView",
      "button_style": "",
      "description": "Classify",
      "disabled": false,
      "icon": "",
      "layout": "IPY_MODEL_eac9452675364640a063d258ff8c8611",
      "style": "IPY_MODEL_364092e9baa3454cac86cb60c362ff5c",
      "tooltip": ""
     }
    },
    "d7236a2dff1e4da58f5fcd958999851a": {
     "model_module": "@jupyter-widgets/controls",
     "model_module_version": "1.5.0",
     "model_name": "ButtonStyleModel",
     "state": {
      "_model_module": "@jupyter-widgets/controls",
      "_model_module_version": "1.5.0",
      "_model_name": "ButtonStyleModel",
      "_view_count": null,
      "_view_module": "@jupyter-widgets/base",
      "_view_module_version": "1.2.0",
      "_view_name": "StyleView",
      "button_color": null,
      "font_weight": ""
     }
    },
    "eac9452675364640a063d258ff8c8611": {
     "model_module": "@jupyter-widgets/base",
     "model_module_version": "1.2.0",
     "model_name": "LayoutModel",
     "state": {
      "_model_module": "@jupyter-widgets/base",
      "_model_module_version": "1.2.0",
      "_model_name": "LayoutModel",
      "_view_count": null,
      "_view_module": "@jupyter-widgets/base",
      "_view_module_version": "1.2.0",
      "_view_name": "LayoutView",
      "align_content": null,
      "align_items": null,
      "align_self": null,
      "border": null,
      "bottom": null,
      "display": null,
      "flex": null,
      "flex_flow": null,
      "grid_area": null,
      "grid_auto_columns": null,
      "grid_auto_flow": null,
      "grid_auto_rows": null,
      "grid_column": null,
      "grid_gap": null,
      "grid_row": null,
      "grid_template_areas": null,
      "grid_template_columns": null,
      "grid_template_rows": null,
      "height": null,
      "justify_content": null,
      "justify_items": null,
      "left": null,
      "margin": null,
      "max_height": null,
      "max_width": null,
      "min_height": null,
      "min_width": null,
      "object_fit": null,
      "object_position": null,
      "order": null,
      "overflow": null,
      "overflow_x": null,
      "overflow_y": null,
      "padding": null,
      "right": null,
      "top": null,
      "visibility": null,
      "width": null
     }
    },
    "fd615ff4e10a4784ba584f59c65c345b": {
     "model_module": "@jupyter-widgets/base",
     "model_module_version": "1.2.0",
     "model_name": "LayoutModel",
     "state": {
      "_model_module": "@jupyter-widgets/base",
      "_model_module_version": "1.2.0",
      "_model_name": "LayoutModel",
      "_view_count": null,
      "_view_module": "@jupyter-widgets/base",
      "_view_module_version": "1.2.0",
      "_view_name": "LayoutView",
      "align_content": null,
      "align_items": null,
      "align_self": null,
      "border": null,
      "bottom": null,
      "display": null,
      "flex": null,
      "flex_flow": null,
      "grid_area": null,
      "grid_auto_columns": null,
      "grid_auto_flow": null,
      "grid_auto_rows": null,
      "grid_column": null,
      "grid_gap": null,
      "grid_row": null,
      "grid_template_areas": null,
      "grid_template_columns": null,
      "grid_template_rows": null,
      "height": null,
      "justify_content": null,
      "justify_items": null,
      "left": null,
      "margin": null,
      "max_height": null,
      "max_width": null,
      "min_height": null,
      "min_width": null,
      "object_fit": null,
      "object_position": null,
      "order": null,
      "overflow": null,
      "overflow_x": null,
      "overflow_y": null,
      "padding": null,
      "right": null,
      "top": null,
      "visibility": null,
      "width": null
     }
    }
   }
  }
 },
 "nbformat": 4,
 "nbformat_minor": 1
}
